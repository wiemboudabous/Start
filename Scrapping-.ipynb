{
 "cells": [
  {
   "cell_type": "code",
   "execution_count": 1,
   "metadata": {},
   "outputs": [
    {
     "name": "stdout",
     "output_type": "stream",
     "text": [
      "Requirement already satisfied: mechanicalsoup in c:\\users\\administrateur\\anaconda3\\lib\\site-packages (1.0.0)\n",
      "Requirement already satisfied: lxml in c:\\users\\administrateur\\anaconda3\\lib\\site-packages (from mechanicalsoup) (4.5.2)\n",
      "Requirement already satisfied: requests>=2.0 in c:\\users\\administrateur\\anaconda3\\lib\\site-packages (from mechanicalsoup) (2.24.0)\n",
      "Requirement already satisfied: six>=1.4 in c:\\users\\administrateur\\anaconda3\\lib\\site-packages (from mechanicalsoup) (1.15.0)\n",
      "Requirement already satisfied: beautifulsoup4>=4.4 in c:\\users\\administrateur\\anaconda3\\lib\\site-packages (from mechanicalsoup) (4.9.3)\n",
      "Requirement already satisfied: idna<3,>=2.5 in c:\\users\\administrateur\\anaconda3\\lib\\site-packages (from requests>=2.0->mechanicalsoup) (2.10)\n",
      "Requirement already satisfied: certifi>=2017.4.17 in c:\\users\\administrateur\\anaconda3\\lib\\site-packages (from requests>=2.0->mechanicalsoup) (2020.6.20)\n",
      "Requirement already satisfied: chardet<4,>=3.0.2 in c:\\users\\administrateur\\anaconda3\\lib\\site-packages (from requests>=2.0->mechanicalsoup) (3.0.4)\n",
      "Requirement already satisfied: urllib3!=1.25.0,!=1.25.1,<1.26,>=1.21.1 in c:\\users\\administrateur\\anaconda3\\lib\\site-packages (from requests>=2.0->mechanicalsoup) (1.25.10)\n",
      "Requirement already satisfied: soupsieve>1.2; python_version >= \"3.0\" in c:\\users\\administrateur\\anaconda3\\lib\\site-packages (from beautifulsoup4>=4.4->mechanicalsoup) (2.0.1)\n"
     ]
    },
    {
     "name": "stderr",
     "output_type": "stream",
     "text": [
      "WARNING: You are using pip version 20.2.4; however, version 21.0.1 is available.\n",
      "You should consider upgrading via the 'c:\\users\\administrateur\\anaconda3\\python.exe -m pip install --upgrade pip' command.\n"
     ]
    }
   ],
   "source": [
    "!pip install mechanicalsoup"
   ]
  },
  {
   "cell_type": "code",
   "execution_count": 1,
   "metadata": {},
   "outputs": [
    {
     "name": "stdout",
     "output_type": "stream",
     "text": [
      "https://www.google.com/imghp?hl=en\n"
     ]
    }
   ],
   "source": [
    "import mechanicalsoup\n",
    "\n",
    "browser = mechanicalsoup.StatefulBrowser()\n",
    "url = \"https://www.google.com/imghp?hl=en\"\n",
    "\n",
    "browser.open(url)\n",
    "print(browser.get_url())"
   ]
  },
  {
   "cell_type": "code",
   "execution_count": 6,
   "metadata": {},
   "outputs": [
    {
     "name": "stdout",
     "output_type": "stream",
     "text": [
      "<input name=\"hl\" type=\"hidden\" value=\"en-TN\"/>\n",
      "<input name=\"gbv\" type=\"hidden\" value=\"1\"/>\n",
      "<input name=\"ie\" type=\"hidden\" value=\"ISO-8859-1\"/>\n",
      "<input name=\"tbm\" type=\"hidden\" value=\"isch\"/>\n",
      "<input name=\"oq\" type=\"hidden\"/>\n",
      "<input name=\"aqs\" type=\"hidden\"/>\n",
      "<input class=\"MhzMZd\" name=\"q\" type=\"text\" value=\"elderly person eating\"/>\n",
      "<input class=\"xB0fq\" type=\"submit\" value=\"Search\"/>\n",
      "new url: https://www.google.com/search?hl=en-TN&gbv=1&ie=ISO-8859-1&tbm=isch&oq=&aqs=&q=elderly+person+drinking\n",
      "my response:\n",
      " <!DOCTYPE html PUBLIC \"-//WAPFORUM//DTD XHTML Mobile 1.0//EN\" \"http://www.wapforum.org/DTD/xhtml-mobile10.dtd\"><html xmlns=\"http://www.w3.org/1999/xhtml\" lang=\"en-TN\"><head><meta content=\"application/xhtml+xml; charset=UTF-8\" http-equiv=\"Content-Type\"/><meta content=\"no-cache\" name=\"Cache-Control\"/><title>elderly person drinking - Google Search</title><style>a{text-decoration:none;color:inherit}a:hover{text-decoration:underline}a img{border:0}body{font-family:Roboto,Helvetica,Arial,sans-serif;pa\n"
     ]
    }
   ],
   "source": [
    "#get HTML\n",
    "browser.get_current_page()\n",
    "\n",
    "#target the search input\n",
    "browser.select_form()\n",
    "browser.get_current_form().print_summary()\n",
    "\n",
    "#search for a term\n",
    "search_term = 'elderly person drinking'\n",
    "browser[\"q\"] = search_term \n",
    "\n",
    "#submit/\"click\" search\n",
    "browser.launch_browser()\n",
    "response = browser.submit_selected()\n",
    "\n",
    "print('new url:', browser.get_url())\n",
    "print('my response:\\n', response.text[:500])"
   ]
  },
  {
   "cell_type": "code",
   "execution_count": 7,
   "metadata": {},
   "outputs": [
    {
     "data": {
      "text/plain": [
       "['/images/branding/searchlogo/1x/googlelogo_desk_heirloom_color_150x55dp.gif',\n",
       " 'https://encrypted-tbn0.gstatic.com/images?q=tbn:ANd9GcS8i3VrYo2SowWWtjrRcR-Hieui5tjJrsIMG1wm6WRDtZ16-rONp2DXj5yDTw&s',\n",
       " 'https://encrypted-tbn0.gstatic.com/images?q=tbn:ANd9GcTgNJxNSOi071y9GG0qsKSLFVeNuBCZv1b_wseFirzu9O_6n5xbhQUhOCxEIJc&s',\n",
       " 'https://encrypted-tbn0.gstatic.com/images?q=tbn:ANd9GcQ47Y5SHdjN6ubxFVVL__mXYmUJucYd-PFVLV7qLRo4g-wz8XkxwC9DnVbql7w&s',\n",
       " 'https://encrypted-tbn0.gstatic.com/images?q=tbn:ANd9GcRaXzpz84m7JjQOJmOGYDTgHRagmQn7aUidGXNvFMtLY1z7OiVdt8qleh7S5g&s',\n",
       " 'https://encrypted-tbn0.gstatic.com/images?q=tbn:ANd9GcSjL-UO8-HDG2KIcl-d6pCqQ2qKKlYw4jmKSiTqIfpTKFPEmnmJ8hCmy5hwAJk&s',\n",
       " 'https://encrypted-tbn0.gstatic.com/images?q=tbn:ANd9GcRWWe9T7gdOjnrX39Gj9YpFfvxdL83UNInsrYThtZz4wYnZWU2btHVYfhEtyq8&s',\n",
       " 'https://encrypted-tbn0.gstatic.com/images?q=tbn:ANd9GcRSUGVt3BvoDG5N0v7o3ME-q7Qqueoa9Cq5j8ATVReKFZNsggtMLgX6g4bfQg&s',\n",
       " 'https://encrypted-tbn0.gstatic.com/images?q=tbn:ANd9GcQXMOmx7cnz0XQoIhVglpJaFQ9KZA7Vi8qyQ--hSncQj5QP-lwEys9vWUFEQhs&s',\n",
       " 'https://encrypted-tbn0.gstatic.com/images?q=tbn:ANd9GcRr6uj175ffL5-5QiWO3155qIq8triRVJXamxf1uPc6cJxP7a6UuFczZC3ZLw&s',\n",
       " 'https://encrypted-tbn0.gstatic.com/images?q=tbn:ANd9GcRJhDXh3SCebRUNr0w0_XWCbi7ainLvIr6d9MqEFi4uMECx1IcWLRAlTFpn68A&s',\n",
       " 'https://encrypted-tbn0.gstatic.com/images?q=tbn:ANd9GcSR9UaMmFyfYo6NCns-bpM1aWfLhU6DKN7EAPzc-zb4kjCYg5RyVpPu-0NxXA&s',\n",
       " 'https://encrypted-tbn0.gstatic.com/images?q=tbn:ANd9GcRW8pOP-l1DPMmT9eQSWcMwkG_vhAH-9jL3SD44nrh2YCZzeqP0qbxbQAp8yA&s',\n",
       " 'https://encrypted-tbn0.gstatic.com/images?q=tbn:ANd9GcSq87Vh6Ig9Q5FNLnQajhnXVA0J5MjvxRDBG_D1N2g4_mh6AgBH50gKEWSZXKE&s',\n",
       " 'https://encrypted-tbn0.gstatic.com/images?q=tbn:ANd9GcSH1ZtC81C90u_AsYptD0_qskOWW43_jn1I6jPVzd_TK2fonahOW_hUZyae6KU&s',\n",
       " 'https://encrypted-tbn0.gstatic.com/images?q=tbn:ANd9GcQV3KWtKjrcrM6BbGqdH8qoYjT0_TShPUVRf7ycAGiVhbSgzquXZXzy9v6znto&s',\n",
       " 'https://encrypted-tbn0.gstatic.com/images?q=tbn:ANd9GcSYd28C2L3hNbv83Bx7L8odRMwk8tGgT33ChnQVfX3iMHo2rm78nxowL2BTjBo&s',\n",
       " 'https://encrypted-tbn0.gstatic.com/images?q=tbn:ANd9GcQXt_rHl0joO1M44aE2-6RXXmropweTE-Krx08f0kd48AXvWbK_lIuAERTIAhM&s',\n",
       " 'https://encrypted-tbn0.gstatic.com/images?q=tbn:ANd9GcRkTBjVLL0qwYAsduc3FUyfnWMnG8a1skCHix8aTQGR5mrDEuLuPWQi14LGlA&s',\n",
       " 'https://encrypted-tbn0.gstatic.com/images?q=tbn:ANd9GcTzWT1qU5R9cv1IT60fqhsiiHNzCu3I42IteGNIu2QndTcV7eMGUgC8UsFqRdY&s',\n",
       " 'https://encrypted-tbn0.gstatic.com/images?q=tbn:ANd9GcSGbCyzSZOpAql7wYNhpNEt9mjr42Z6EtlqNpsRYS_F3QCUiqv8EohkLnKbmw&s']"
      ]
     },
     "execution_count": 7,
     "metadata": {},
     "output_type": "execute_result"
    }
   ],
   "source": [
    "#open new URL\n",
    "new_url = browser.get_url()\n",
    "browser.open(new_url)\n",
    "\n",
    "#get HTML\n",
    "page = browser.get_current_page()\n",
    "all_images = page.find_all('img')\n",
    "\n",
    "#target the source attribute\n",
    "image_source = []\n",
    "for image in all_images:\n",
    "    image = image.get('src')\n",
    "    image_source.append(image)\n",
    "    \n",
    "image_source[0:]"
   ]
  },
  {
   "cell_type": "code",
   "execution_count": 8,
   "metadata": {},
   "outputs": [
    {
     "data": {
      "text/plain": [
       "['https://encrypted-tbn0.gstatic.com/images?q=tbn:ANd9GcTgNJxNSOi071y9GG0qsKSLFVeNuBCZv1b_wseFirzu9O_6n5xbhQUhOCxEIJc&s',\n",
       " 'https://encrypted-tbn0.gstatic.com/images?q=tbn:ANd9GcQ47Y5SHdjN6ubxFVVL__mXYmUJucYd-PFVLV7qLRo4g-wz8XkxwC9DnVbql7w&s',\n",
       " 'https://encrypted-tbn0.gstatic.com/images?q=tbn:ANd9GcRaXzpz84m7JjQOJmOGYDTgHRagmQn7aUidGXNvFMtLY1z7OiVdt8qleh7S5g&s',\n",
       " 'https://encrypted-tbn0.gstatic.com/images?q=tbn:ANd9GcSjL-UO8-HDG2KIcl-d6pCqQ2qKKlYw4jmKSiTqIfpTKFPEmnmJ8hCmy5hwAJk&s',\n",
       " 'https://encrypted-tbn0.gstatic.com/images?q=tbn:ANd9GcRWWe9T7gdOjnrX39Gj9YpFfvxdL83UNInsrYThtZz4wYnZWU2btHVYfhEtyq8&s',\n",
       " 'https://encrypted-tbn0.gstatic.com/images?q=tbn:ANd9GcRSUGVt3BvoDG5N0v7o3ME-q7Qqueoa9Cq5j8ATVReKFZNsggtMLgX6g4bfQg&s',\n",
       " 'https://encrypted-tbn0.gstatic.com/images?q=tbn:ANd9GcQXMOmx7cnz0XQoIhVglpJaFQ9KZA7Vi8qyQ--hSncQj5QP-lwEys9vWUFEQhs&s',\n",
       " 'https://encrypted-tbn0.gstatic.com/images?q=tbn:ANd9GcRr6uj175ffL5-5QiWO3155qIq8triRVJXamxf1uPc6cJxP7a6UuFczZC3ZLw&s',\n",
       " 'https://encrypted-tbn0.gstatic.com/images?q=tbn:ANd9GcRJhDXh3SCebRUNr0w0_XWCbi7ainLvIr6d9MqEFi4uMECx1IcWLRAlTFpn68A&s',\n",
       " 'https://encrypted-tbn0.gstatic.com/images?q=tbn:ANd9GcSR9UaMmFyfYo6NCns-bpM1aWfLhU6DKN7EAPzc-zb4kjCYg5RyVpPu-0NxXA&s',\n",
       " 'https://encrypted-tbn0.gstatic.com/images?q=tbn:ANd9GcRW8pOP-l1DPMmT9eQSWcMwkG_vhAH-9jL3SD44nrh2YCZzeqP0qbxbQAp8yA&s',\n",
       " 'https://encrypted-tbn0.gstatic.com/images?q=tbn:ANd9GcSq87Vh6Ig9Q5FNLnQajhnXVA0J5MjvxRDBG_D1N2g4_mh6AgBH50gKEWSZXKE&s',\n",
       " 'https://encrypted-tbn0.gstatic.com/images?q=tbn:ANd9GcSH1ZtC81C90u_AsYptD0_qskOWW43_jn1I6jPVzd_TK2fonahOW_hUZyae6KU&s',\n",
       " 'https://encrypted-tbn0.gstatic.com/images?q=tbn:ANd9GcQV3KWtKjrcrM6BbGqdH8qoYjT0_TShPUVRf7ycAGiVhbSgzquXZXzy9v6znto&s',\n",
       " 'https://encrypted-tbn0.gstatic.com/images?q=tbn:ANd9GcSYd28C2L3hNbv83Bx7L8odRMwk8tGgT33ChnQVfX3iMHo2rm78nxowL2BTjBo&s',\n",
       " 'https://encrypted-tbn0.gstatic.com/images?q=tbn:ANd9GcQXt_rHl0joO1M44aE2-6RXXmropweTE-Krx08f0kd48AXvWbK_lIuAERTIAhM&s',\n",
       " 'https://encrypted-tbn0.gstatic.com/images?q=tbn:ANd9GcRkTBjVLL0qwYAsduc3FUyfnWMnG8a1skCHix8aTQGR5mrDEuLuPWQi14LGlA&s',\n",
       " 'https://encrypted-tbn0.gstatic.com/images?q=tbn:ANd9GcTzWT1qU5R9cv1IT60fqhsiiHNzCu3I42IteGNIu2QndTcV7eMGUgC8UsFqRdY&s',\n",
       " 'https://encrypted-tbn0.gstatic.com/images?q=tbn:ANd9GcSGbCyzSZOpAql7wYNhpNEt9mjr42Z6EtlqNpsRYS_F3QCUiqv8EohkLnKbmw&s']"
      ]
     },
     "execution_count": 8,
     "metadata": {},
     "output_type": "execute_result"
    }
   ],
   "source": [
    "image_source = [image for image in image_source if image.startswith('https')]\n",
    "image_source[1:]"
   ]
  },
  {
   "cell_type": "code",
   "execution_count": 9,
   "metadata": {},
   "outputs": [
    {
     "name": "stdout",
     "output_type": "stream",
     "text": [
      "Requirement already satisfied: wget in c:\\users\\administrateur\\anaconda3\\lib\\site-packages (3.2)\n"
     ]
    },
    {
     "name": "stderr",
     "output_type": "stream",
     "text": [
      "WARNING: You are using pip version 20.2.4; however, version 21.0.1 is available.\n",
      "You should consider upgrading via the 'c:\\users\\administrateur\\anaconda3\\python.exe -m pip install --upgrade pip' command.\n"
     ]
    }
   ],
   "source": [
    "! pip install wget"
   ]
  },
  {
   "cell_type": "code",
   "execution_count": 10,
   "metadata": {},
   "outputs": [
    {
     "data": {
      "text/plain": [
       "'C:\\\\Users\\\\Administrateur\\\\elderly person drinking'"
      ]
     },
     "execution_count": 10,
     "metadata": {},
     "output_type": "execute_result"
    }
   ],
   "source": [
    "import os\n",
    "import wget\n",
    "\n",
    "path = os.getcwd()\n",
    "path = os.path.join(path, search_term )\n",
    "\n",
    "#create the directory\n",
    "os.mkdir(path)\n",
    "\n",
    "path"
   ]
  },
  {
   "cell_type": "code",
   "execution_count": 11,
   "metadata": {},
   "outputs": [],
   "source": [
    "#download images\n",
    "counter = 0\n",
    "for image in image_source:\n",
    "    save_as = os.path.join(path, search_term + str(counter) + '.jpg')\n",
    "    wget.download(image, save_as)\n",
    "    counter += 1"
   ]
  },
  {
   "cell_type": "code",
   "execution_count": null,
   "metadata": {},
   "outputs": [],
   "source": [
    "import matplotlib.pyplot as plt \n",
    "import matplotlib.image as mpimg \n",
    "  \n",
    "# Read Images \n",
    "img = mpimg.imread('elderly person drin/elderly person eating0.jpg') \n",
    "  \n",
    "# Output Images \n",
    "plt.imshow(img)"
   ]
  },
  {
   "cell_type": "code",
   "execution_count": null,
   "metadata": {},
   "outputs": [],
   "source": []
  }
 ],
 "metadata": {
  "kernelspec": {
   "display_name": "Python 3",
   "language": "python",
   "name": "python3"
  },
  "language_info": {
   "codemirror_mode": {
    "name": "ipython",
    "version": 3
   },
   "file_extension": ".py",
   "mimetype": "text/x-python",
   "name": "python",
   "nbconvert_exporter": "python",
   "pygments_lexer": "ipython3",
   "version": "3.8.3"
  }
 },
 "nbformat": 4,
 "nbformat_minor": 4
}
